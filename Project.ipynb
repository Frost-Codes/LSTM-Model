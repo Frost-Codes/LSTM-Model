{
  "cells": [
    {
      "cell_type": "markdown",
      "metadata": {
        "id": "view-in-github",
        "colab_type": "text"
      },
      "source": [
        "<a href=\"https://colab.research.google.com/github/Frost-Codes/LSTM-Model/blob/main/Project.ipynb\" target=\"_parent\"><img src=\"https://colab.research.google.com/assets/colab-badge.svg\" alt=\"Open In Colab\"/></a>"
      ]
    },
    {
      "cell_type": "markdown",
      "source": [
        "*** Yahoo Finance API to download historical dataset ***"
      ],
      "metadata": {
        "id": "7OhToFxd--bo"
      }
    },
    {
      "cell_type": "code",
      "execution_count": null,
      "metadata": {
        "id": "od8uleoLu3K7",
        "colab": {
          "base_uri": "https://localhost:8080/"
        },
        "outputId": "cd851ed6-b810-4925-8b0e-c96da0c12092"
      },
      "outputs": [
        {
          "output_type": "stream",
          "name": "stdout",
          "text": [
            "Looking in indexes: https://pypi.org/simple, https://us-python.pkg.dev/colab-wheels/public/simple/\n",
            "Requirement already satisfied: yfinance in /usr/local/lib/python3.10/dist-packages (0.2.18)\n",
            "Requirement already satisfied: pandas>=1.3.0 in /usr/local/lib/python3.10/dist-packages (from yfinance) (1.5.3)\n",
            "Requirement already satisfied: numpy>=1.16.5 in /usr/local/lib/python3.10/dist-packages (from yfinance) (1.22.4)\n",
            "Requirement already satisfied: requests>=2.26 in /usr/local/lib/python3.10/dist-packages (from yfinance) (2.27.1)\n",
            "Requirement already satisfied: multitasking>=0.0.7 in /usr/local/lib/python3.10/dist-packages (from yfinance) (0.0.11)\n",
            "Requirement already satisfied: lxml>=4.9.1 in /usr/local/lib/python3.10/dist-packages (from yfinance) (4.9.2)\n",
            "Requirement already satisfied: appdirs>=1.4.4 in /usr/local/lib/python3.10/dist-packages (from yfinance) (1.4.4)\n",
            "Requirement already satisfied: pytz>=2022.5 in /usr/local/lib/python3.10/dist-packages (from yfinance) (2022.7.1)\n",
            "Requirement already satisfied: frozendict>=2.3.4 in /usr/local/lib/python3.10/dist-packages (from yfinance) (2.3.7)\n",
            "Requirement already satisfied: cryptography>=3.3.2 in /usr/local/lib/python3.10/dist-packages (from yfinance) (40.0.2)\n",
            "Requirement already satisfied: beautifulsoup4>=4.11.1 in /usr/local/lib/python3.10/dist-packages (from yfinance) (4.11.2)\n",
            "Requirement already satisfied: html5lib>=1.1 in /usr/local/lib/python3.10/dist-packages (from yfinance) (1.1)\n",
            "Requirement already satisfied: soupsieve>1.2 in /usr/local/lib/python3.10/dist-packages (from beautifulsoup4>=4.11.1->yfinance) (2.4.1)\n",
            "Requirement already satisfied: cffi>=1.12 in /usr/local/lib/python3.10/dist-packages (from cryptography>=3.3.2->yfinance) (1.15.1)\n",
            "Requirement already satisfied: six>=1.9 in /usr/local/lib/python3.10/dist-packages (from html5lib>=1.1->yfinance) (1.16.0)\n",
            "Requirement already satisfied: webencodings in /usr/local/lib/python3.10/dist-packages (from html5lib>=1.1->yfinance) (0.5.1)\n",
            "Requirement already satisfied: python-dateutil>=2.8.1 in /usr/local/lib/python3.10/dist-packages (from pandas>=1.3.0->yfinance) (2.8.2)\n",
            "Requirement already satisfied: urllib3<1.27,>=1.21.1 in /usr/local/lib/python3.10/dist-packages (from requests>=2.26->yfinance) (1.26.15)\n",
            "Requirement already satisfied: certifi>=2017.4.17 in /usr/local/lib/python3.10/dist-packages (from requests>=2.26->yfinance) (2022.12.7)\n",
            "Requirement already satisfied: charset-normalizer~=2.0.0 in /usr/local/lib/python3.10/dist-packages (from requests>=2.26->yfinance) (2.0.12)\n",
            "Requirement already satisfied: idna<4,>=2.5 in /usr/local/lib/python3.10/dist-packages (from requests>=2.26->yfinance) (3.4)\n",
            "Requirement already satisfied: pycparser in /usr/local/lib/python3.10/dist-packages (from cffi>=1.12->cryptography>=3.3.2->yfinance) (2.21)\n"
          ]
        }
      ],
      "source": [
        "!pip install yfinance"
      ]
    },
    {
      "cell_type": "markdown",
      "source": [
        "**Importing some liblaries that we'll use for analysis**"
      ],
      "metadata": {
        "id": "Vh8NnQnu_vaB"
      }
    },
    {
      "cell_type": "code",
      "execution_count": 1,
      "metadata": {
        "id": "szqMTKlkvRvF"
      },
      "outputs": [],
      "source": [
        "import pandas as pd\n",
        "import numpy as np\n",
        "import yfinance as yf\n",
        "from matplotlib import pyplot as plt"
      ]
    },
    {
      "cell_type": "markdown",
      "source": [
        "**Downloading the dataset and having a basic overview of it's distribution**"
      ],
      "metadata": {
        "id": "tA8eTb-X_-nI"
      }
    },
    {
      "cell_type": "code",
      "execution_count": null,
      "metadata": {
        "colab": {
          "base_uri": "https://localhost:8080/"
        },
        "id": "ZGmj3mZyrFSF",
        "outputId": "4a67e975-6ac6-44c2-e282-5e2b50a9d4e1"
      },
      "outputs": [
        {
          "output_type": "stream",
          "name": "stdout",
          "text": [
            "\r[*********************100%***********************]  1 of 1 completed\n"
          ]
        }
      ],
      "source": [
        "import datetime\n",
        "start = datetime.datetime(2012, 1, 1)\n",
        "end = datetime.datetime.today()\n",
        "data = yf.download('CL=F',period='1y',interval='1h', auto_adjust=True)"
      ]
    },
    {
      "cell_type": "code",
      "execution_count": null,
      "metadata": {
        "colab": {
          "base_uri": "https://localhost:8080/"
        },
        "id": "beHd_bUPUgcb",
        "outputId": "1fe27987-2081-4965-d344-cec383d80053"
      },
      "outputs": [
        {
          "output_type": "execute_result",
          "data": {
            "text/plain": [
              "(5645, 5)"
            ]
          },
          "metadata": {},
          "execution_count": 4
        }
      ],
      "source": [
        "data.shape"
      ]
    },
    {
      "cell_type": "code",
      "execution_count": null,
      "metadata": {
        "colab": {
          "base_uri": "https://localhost:8080/",
          "height": 237
        },
        "id": "hkcRtlj2wGcn",
        "outputId": "fde57060-6624-4b86-86ad-669549dc57dd"
      },
      "outputs": [
        {
          "output_type": "execute_result",
          "data": {
            "text/plain": [
              "                                 Open        High         Low       Close  \\\n",
              "Datetime                                                                    \n",
              "2022-06-08 06:00:00-04:00  121.220001  121.370003  120.629997  120.690002   \n",
              "2022-06-08 07:00:00-04:00  120.699997  120.739998  120.459999  120.669998   \n",
              "2022-06-08 08:00:00-04:00  120.660004  121.010002  120.379997  120.739998   \n",
              "2022-06-08 09:00:00-04:00  120.739998  120.790001  119.830002  119.879997   \n",
              "2022-06-08 10:00:00-04:00  119.889999  120.730003  119.440002  120.690002   \n",
              "\n",
              "                           Volume  \n",
              "Datetime                           \n",
              "2022-06-08 06:00:00-04:00       0  \n",
              "2022-06-08 07:00:00-04:00    6605  \n",
              "2022-06-08 08:00:00-04:00   13534  \n",
              "2022-06-08 09:00:00-04:00   29637  \n",
              "2022-06-08 10:00:00-04:00   38876  "
            ],
            "text/html": [
              "\n",
              "  <div id=\"df-aa5b7d6c-5ed7-4765-b702-8620045b7ec2\">\n",
              "    <div class=\"colab-df-container\">\n",
              "      <div>\n",
              "<style scoped>\n",
              "    .dataframe tbody tr th:only-of-type {\n",
              "        vertical-align: middle;\n",
              "    }\n",
              "\n",
              "    .dataframe tbody tr th {\n",
              "        vertical-align: top;\n",
              "    }\n",
              "\n",
              "    .dataframe thead th {\n",
              "        text-align: right;\n",
              "    }\n",
              "</style>\n",
              "<table border=\"1\" class=\"dataframe\">\n",
              "  <thead>\n",
              "    <tr style=\"text-align: right;\">\n",
              "      <th></th>\n",
              "      <th>Open</th>\n",
              "      <th>High</th>\n",
              "      <th>Low</th>\n",
              "      <th>Close</th>\n",
              "      <th>Volume</th>\n",
              "    </tr>\n",
              "    <tr>\n",
              "      <th>Datetime</th>\n",
              "      <th></th>\n",
              "      <th></th>\n",
              "      <th></th>\n",
              "      <th></th>\n",
              "      <th></th>\n",
              "    </tr>\n",
              "  </thead>\n",
              "  <tbody>\n",
              "    <tr>\n",
              "      <th>2022-06-08 06:00:00-04:00</th>\n",
              "      <td>121.220001</td>\n",
              "      <td>121.370003</td>\n",
              "      <td>120.629997</td>\n",
              "      <td>120.690002</td>\n",
              "      <td>0</td>\n",
              "    </tr>\n",
              "    <tr>\n",
              "      <th>2022-06-08 07:00:00-04:00</th>\n",
              "      <td>120.699997</td>\n",
              "      <td>120.739998</td>\n",
              "      <td>120.459999</td>\n",
              "      <td>120.669998</td>\n",
              "      <td>6605</td>\n",
              "    </tr>\n",
              "    <tr>\n",
              "      <th>2022-06-08 08:00:00-04:00</th>\n",
              "      <td>120.660004</td>\n",
              "      <td>121.010002</td>\n",
              "      <td>120.379997</td>\n",
              "      <td>120.739998</td>\n",
              "      <td>13534</td>\n",
              "    </tr>\n",
              "    <tr>\n",
              "      <th>2022-06-08 09:00:00-04:00</th>\n",
              "      <td>120.739998</td>\n",
              "      <td>120.790001</td>\n",
              "      <td>119.830002</td>\n",
              "      <td>119.879997</td>\n",
              "      <td>29637</td>\n",
              "    </tr>\n",
              "    <tr>\n",
              "      <th>2022-06-08 10:00:00-04:00</th>\n",
              "      <td>119.889999</td>\n",
              "      <td>120.730003</td>\n",
              "      <td>119.440002</td>\n",
              "      <td>120.690002</td>\n",
              "      <td>38876</td>\n",
              "    </tr>\n",
              "  </tbody>\n",
              "</table>\n",
              "</div>\n",
              "      <button class=\"colab-df-convert\" onclick=\"convertToInteractive('df-aa5b7d6c-5ed7-4765-b702-8620045b7ec2')\"\n",
              "              title=\"Convert this dataframe to an interactive table.\"\n",
              "              style=\"display:none;\">\n",
              "        \n",
              "  <svg xmlns=\"http://www.w3.org/2000/svg\" height=\"24px\"viewBox=\"0 0 24 24\"\n",
              "       width=\"24px\">\n",
              "    <path d=\"M0 0h24v24H0V0z\" fill=\"none\"/>\n",
              "    <path d=\"M18.56 5.44l.94 2.06.94-2.06 2.06-.94-2.06-.94-.94-2.06-.94 2.06-2.06.94zm-11 1L8.5 8.5l.94-2.06 2.06-.94-2.06-.94L8.5 2.5l-.94 2.06-2.06.94zm10 10l.94 2.06.94-2.06 2.06-.94-2.06-.94-.94-2.06-.94 2.06-2.06.94z\"/><path d=\"M17.41 7.96l-1.37-1.37c-.4-.4-.92-.59-1.43-.59-.52 0-1.04.2-1.43.59L10.3 9.45l-7.72 7.72c-.78.78-.78 2.05 0 2.83L4 21.41c.39.39.9.59 1.41.59.51 0 1.02-.2 1.41-.59l7.78-7.78 2.81-2.81c.8-.78.8-2.07 0-2.86zM5.41 20L4 18.59l7.72-7.72 1.47 1.35L5.41 20z\"/>\n",
              "  </svg>\n",
              "      </button>\n",
              "      \n",
              "  <style>\n",
              "    .colab-df-container {\n",
              "      display:flex;\n",
              "      flex-wrap:wrap;\n",
              "      gap: 12px;\n",
              "    }\n",
              "\n",
              "    .colab-df-convert {\n",
              "      background-color: #E8F0FE;\n",
              "      border: none;\n",
              "      border-radius: 50%;\n",
              "      cursor: pointer;\n",
              "      display: none;\n",
              "      fill: #1967D2;\n",
              "      height: 32px;\n",
              "      padding: 0 0 0 0;\n",
              "      width: 32px;\n",
              "    }\n",
              "\n",
              "    .colab-df-convert:hover {\n",
              "      background-color: #E2EBFA;\n",
              "      box-shadow: 0px 1px 2px rgba(60, 64, 67, 0.3), 0px 1px 3px 1px rgba(60, 64, 67, 0.15);\n",
              "      fill: #174EA6;\n",
              "    }\n",
              "\n",
              "    [theme=dark] .colab-df-convert {\n",
              "      background-color: #3B4455;\n",
              "      fill: #D2E3FC;\n",
              "    }\n",
              "\n",
              "    [theme=dark] .colab-df-convert:hover {\n",
              "      background-color: #434B5C;\n",
              "      box-shadow: 0px 1px 3px 1px rgba(0, 0, 0, 0.15);\n",
              "      filter: drop-shadow(0px 1px 2px rgba(0, 0, 0, 0.3));\n",
              "      fill: #FFFFFF;\n",
              "    }\n",
              "  </style>\n",
              "\n",
              "      <script>\n",
              "        const buttonEl =\n",
              "          document.querySelector('#df-aa5b7d6c-5ed7-4765-b702-8620045b7ec2 button.colab-df-convert');\n",
              "        buttonEl.style.display =\n",
              "          google.colab.kernel.accessAllowed ? 'block' : 'none';\n",
              "\n",
              "        async function convertToInteractive(key) {\n",
              "          const element = document.querySelector('#df-aa5b7d6c-5ed7-4765-b702-8620045b7ec2');\n",
              "          const dataTable =\n",
              "            await google.colab.kernel.invokeFunction('convertToInteractive',\n",
              "                                                     [key], {});\n",
              "          if (!dataTable) return;\n",
              "\n",
              "          const docLinkHtml = 'Like what you see? Visit the ' +\n",
              "            '<a target=\"_blank\" href=https://colab.research.google.com/notebooks/data_table.ipynb>data table notebook</a>'\n",
              "            + ' to learn more about interactive tables.';\n",
              "          element.innerHTML = '';\n",
              "          dataTable['output_type'] = 'display_data';\n",
              "          await google.colab.output.renderOutput(dataTable, element);\n",
              "          const docLink = document.createElement('div');\n",
              "          docLink.innerHTML = docLinkHtml;\n",
              "          element.appendChild(docLink);\n",
              "        }\n",
              "      </script>\n",
              "    </div>\n",
              "  </div>\n",
              "  "
            ]
          },
          "metadata": {},
          "execution_count": 5
        }
      ],
      "source": [
        "data.head()"
      ]
    },
    {
      "cell_type": "code",
      "execution_count": null,
      "metadata": {
        "colab": {
          "base_uri": "https://localhost:8080/",
          "height": 237
        },
        "id": "oo1YaR0wwMH0",
        "outputId": "0695b0f2-0c41-4827-cafd-22b3625edc70"
      },
      "outputs": [
        {
          "output_type": "execute_result",
          "data": {
            "text/plain": [
              "                                Open       High        Low      Close  Volume\n",
              "Datetime                                                                     \n",
              "2023-06-08 02:00:00-04:00  72.489998  72.669998  72.379997  72.650002    2775\n",
              "2023-06-08 03:00:00-04:00  72.639999  72.849998  72.470001  72.570000    8015\n",
              "2023-06-08 04:00:00-04:00  72.570000  72.629997  72.129997  72.150002   14578\n",
              "2023-06-08 05:00:00-04:00  72.139999  72.779999  72.070000  72.769997    7574\n",
              "2023-06-08 06:00:00-04:00  72.779999  72.830002  72.769997  72.790001       0"
            ],
            "text/html": [
              "\n",
              "  <div id=\"df-d0d27c2a-cb65-473e-a932-12a51850f19f\">\n",
              "    <div class=\"colab-df-container\">\n",
              "      <div>\n",
              "<style scoped>\n",
              "    .dataframe tbody tr th:only-of-type {\n",
              "        vertical-align: middle;\n",
              "    }\n",
              "\n",
              "    .dataframe tbody tr th {\n",
              "        vertical-align: top;\n",
              "    }\n",
              "\n",
              "    .dataframe thead th {\n",
              "        text-align: right;\n",
              "    }\n",
              "</style>\n",
              "<table border=\"1\" class=\"dataframe\">\n",
              "  <thead>\n",
              "    <tr style=\"text-align: right;\">\n",
              "      <th></th>\n",
              "      <th>Open</th>\n",
              "      <th>High</th>\n",
              "      <th>Low</th>\n",
              "      <th>Close</th>\n",
              "      <th>Volume</th>\n",
              "    </tr>\n",
              "    <tr>\n",
              "      <th>Datetime</th>\n",
              "      <th></th>\n",
              "      <th></th>\n",
              "      <th></th>\n",
              "      <th></th>\n",
              "      <th></th>\n",
              "    </tr>\n",
              "  </thead>\n",
              "  <tbody>\n",
              "    <tr>\n",
              "      <th>2023-06-08 02:00:00-04:00</th>\n",
              "      <td>72.489998</td>\n",
              "      <td>72.669998</td>\n",
              "      <td>72.379997</td>\n",
              "      <td>72.650002</td>\n",
              "      <td>2775</td>\n",
              "    </tr>\n",
              "    <tr>\n",
              "      <th>2023-06-08 03:00:00-04:00</th>\n",
              "      <td>72.639999</td>\n",
              "      <td>72.849998</td>\n",
              "      <td>72.470001</td>\n",
              "      <td>72.570000</td>\n",
              "      <td>8015</td>\n",
              "    </tr>\n",
              "    <tr>\n",
              "      <th>2023-06-08 04:00:00-04:00</th>\n",
              "      <td>72.570000</td>\n",
              "      <td>72.629997</td>\n",
              "      <td>72.129997</td>\n",
              "      <td>72.150002</td>\n",
              "      <td>14578</td>\n",
              "    </tr>\n",
              "    <tr>\n",
              "      <th>2023-06-08 05:00:00-04:00</th>\n",
              "      <td>72.139999</td>\n",
              "      <td>72.779999</td>\n",
              "      <td>72.070000</td>\n",
              "      <td>72.769997</td>\n",
              "      <td>7574</td>\n",
              "    </tr>\n",
              "    <tr>\n",
              "      <th>2023-06-08 06:00:00-04:00</th>\n",
              "      <td>72.779999</td>\n",
              "      <td>72.830002</td>\n",
              "      <td>72.769997</td>\n",
              "      <td>72.790001</td>\n",
              "      <td>0</td>\n",
              "    </tr>\n",
              "  </tbody>\n",
              "</table>\n",
              "</div>\n",
              "      <button class=\"colab-df-convert\" onclick=\"convertToInteractive('df-d0d27c2a-cb65-473e-a932-12a51850f19f')\"\n",
              "              title=\"Convert this dataframe to an interactive table.\"\n",
              "              style=\"display:none;\">\n",
              "        \n",
              "  <svg xmlns=\"http://www.w3.org/2000/svg\" height=\"24px\"viewBox=\"0 0 24 24\"\n",
              "       width=\"24px\">\n",
              "    <path d=\"M0 0h24v24H0V0z\" fill=\"none\"/>\n",
              "    <path d=\"M18.56 5.44l.94 2.06.94-2.06 2.06-.94-2.06-.94-.94-2.06-.94 2.06-2.06.94zm-11 1L8.5 8.5l.94-2.06 2.06-.94-2.06-.94L8.5 2.5l-.94 2.06-2.06.94zm10 10l.94 2.06.94-2.06 2.06-.94-2.06-.94-.94-2.06-.94 2.06-2.06.94z\"/><path d=\"M17.41 7.96l-1.37-1.37c-.4-.4-.92-.59-1.43-.59-.52 0-1.04.2-1.43.59L10.3 9.45l-7.72 7.72c-.78.78-.78 2.05 0 2.83L4 21.41c.39.39.9.59 1.41.59.51 0 1.02-.2 1.41-.59l7.78-7.78 2.81-2.81c.8-.78.8-2.07 0-2.86zM5.41 20L4 18.59l7.72-7.72 1.47 1.35L5.41 20z\"/>\n",
              "  </svg>\n",
              "      </button>\n",
              "      \n",
              "  <style>\n",
              "    .colab-df-container {\n",
              "      display:flex;\n",
              "      flex-wrap:wrap;\n",
              "      gap: 12px;\n",
              "    }\n",
              "\n",
              "    .colab-df-convert {\n",
              "      background-color: #E8F0FE;\n",
              "      border: none;\n",
              "      border-radius: 50%;\n",
              "      cursor: pointer;\n",
              "      display: none;\n",
              "      fill: #1967D2;\n",
              "      height: 32px;\n",
              "      padding: 0 0 0 0;\n",
              "      width: 32px;\n",
              "    }\n",
              "\n",
              "    .colab-df-convert:hover {\n",
              "      background-color: #E2EBFA;\n",
              "      box-shadow: 0px 1px 2px rgba(60, 64, 67, 0.3), 0px 1px 3px 1px rgba(60, 64, 67, 0.15);\n",
              "      fill: #174EA6;\n",
              "    }\n",
              "\n",
              "    [theme=dark] .colab-df-convert {\n",
              "      background-color: #3B4455;\n",
              "      fill: #D2E3FC;\n",
              "    }\n",
              "\n",
              "    [theme=dark] .colab-df-convert:hover {\n",
              "      background-color: #434B5C;\n",
              "      box-shadow: 0px 1px 3px 1px rgba(0, 0, 0, 0.15);\n",
              "      filter: drop-shadow(0px 1px 2px rgba(0, 0, 0, 0.3));\n",
              "      fill: #FFFFFF;\n",
              "    }\n",
              "  </style>\n",
              "\n",
              "      <script>\n",
              "        const buttonEl =\n",
              "          document.querySelector('#df-d0d27c2a-cb65-473e-a932-12a51850f19f button.colab-df-convert');\n",
              "        buttonEl.style.display =\n",
              "          google.colab.kernel.accessAllowed ? 'block' : 'none';\n",
              "\n",
              "        async function convertToInteractive(key) {\n",
              "          const element = document.querySelector('#df-d0d27c2a-cb65-473e-a932-12a51850f19f');\n",
              "          const dataTable =\n",
              "            await google.colab.kernel.invokeFunction('convertToInteractive',\n",
              "                                                     [key], {});\n",
              "          if (!dataTable) return;\n",
              "\n",
              "          const docLinkHtml = 'Like what you see? Visit the ' +\n",
              "            '<a target=\"_blank\" href=https://colab.research.google.com/notebooks/data_table.ipynb>data table notebook</a>'\n",
              "            + ' to learn more about interactive tables.';\n",
              "          element.innerHTML = '';\n",
              "          dataTable['output_type'] = 'display_data';\n",
              "          await google.colab.output.renderOutput(dataTable, element);\n",
              "          const docLink = document.createElement('div');\n",
              "          docLink.innerHTML = docLinkHtml;\n",
              "          element.appendChild(docLink);\n",
              "        }\n",
              "      </script>\n",
              "    </div>\n",
              "  </div>\n",
              "  "
            ]
          },
          "metadata": {},
          "execution_count": 6
        }
      ],
      "source": [
        "data.tail()"
      ]
    },
    {
      "cell_type": "markdown",
      "source": [
        "**Resetting the index column & dropping columns that we do not need**"
      ],
      "metadata": {
        "id": "QCslHO5cAVf8"
      }
    },
    {
      "cell_type": "code",
      "execution_count": null,
      "metadata": {
        "id": "WU_cP0rJwfYN"
      },
      "outputs": [],
      "source": [
        "data = data.reset_index()"
      ]
    },
    {
      "cell_type": "code",
      "execution_count": null,
      "metadata": {
        "id": "t6onPTocwqcM"
      },
      "outputs": [],
      "source": [
        "data.drop(['Datetime', 'Open', 'High', 'Low', 'Volume'], axis=1, inplace=True)"
      ]
    },
    {
      "cell_type": "markdown",
      "source": [
        "**Plotting the close price**"
      ],
      "metadata": {
        "id": "2aeFjwdOBdgO"
      }
    },
    {
      "cell_type": "code",
      "execution_count": null,
      "metadata": {
        "colab": {
          "base_uri": "https://localhost:8080/",
          "height": 539
        },
        "id": "UKugxObsw-vM",
        "outputId": "a42919fe-ffe6-4556-8ffa-07709d11c0a1"
      },
      "outputs": [
        {
          "output_type": "execute_result",
          "data": {
            "text/plain": [
              "<Axes: >"
            ]
          },
          "metadata": {},
          "execution_count": 14
        },
        {
          "output_type": "display_data",
          "data": {
            "text/plain": [
              "<Figure size 1000x600 with 1 Axes>"
            ],
            "image/png": "[encoded data removed]"
          },
          "metadata": {}
        }
      ],
      "source": [
        "data['Close'].plot(figsize=(10,6))"
      ]
    },
    {
      "cell_type": "markdown",
      "source": [
        "**Plotting with SMAs**"
      ],
      "metadata": {
        "id": "FZHHNFLJBnL4"
      }
    },
    {
      "cell_type": "code",
      "execution_count": null,
      "metadata": {
        "colab": {
          "base_uri": "https://localhost:8080/",
          "height": 562
        },
        "id": "JaurSSacxPBL",
        "outputId": "7f3d6610-9923-47fb-cb0e-0b18479f8c30"
      },
      "outputs": [
        {
          "output_type": "execute_result",
          "data": {
            "text/plain": [
              "<Axes: title={'center': 'Close price with SMA1 at 100 and SMA2 at 200'}>"
            ]
          },
          "metadata": {},
          "execution_count": 15
        },
        {
          "output_type": "display_data",
          "data": {
            "text/plain": [
              "<Figure size 1000x600 with 1 Axes>"
            ],
            "image/png": "[encoded data removed]"
          },
          "metadata": {}
        }
      ],
      "source": [
        "data['SMA1'] = data['Close'].rolling(100).mean()\n",
        "data['SMA2'] = data['Close'].rolling(200).mean()\n",
        "data.plot(figsize=(10,6), title='Close price with SMA1 at 100 and SMA2 at 200')"
      ]
    },
    {
      "cell_type": "code",
      "execution_count": null,
      "metadata": {
        "colab": {
          "base_uri": "https://localhost:8080/"
        },
        "id": "UGktZTAXy6Y3",
        "outputId": "6250d144-f0cc-4d14-a97c-63f1255d0be8"
      },
      "outputs": [
        {
          "output_type": "stream",
          "name": "stdout",
          "text": [
            "(4516, 1)\n",
            "(1129, 1)\n"
          ]
        }
      ],
      "source": [
        "## split data to trainning and testing\n",
        "data_trainnig = pd.DataFrame(data['Close'][0:int(len(data)*0.8)])\n",
        "data_testing = pd.DataFrame(data['Close'][int(len(data)*0.8):])\n",
        "print(data_trainnig.shape)\n",
        "print(data_testing.shape)"
      ]
    },
    {
      "cell_type": "code",
      "execution_count": null,
      "metadata": {
        "id": "efaezUF70EPP"
      },
      "outputs": [],
      "source": [
        "# scale down the trainning data to range 0 to 1\n",
        "from sklearn.preprocessing import MinMaxScaler\n",
        "scaler = MinMaxScaler(feature_range=(0,1))"
      ]
    },
    {
      "cell_type": "code",
      "execution_count": null,
      "metadata": {
        "colab": {
          "base_uri": "https://localhost:8080/"
        },
        "id": "rSDJOp3f1mRI",
        "outputId": "61efff2e-5071-460f-c133-b2e66b130de9"
      },
      "outputs": [
        {
          "output_type": "execute_result",
          "data": {
            "text/plain": [
              "(4516, 1)"
            ]
          },
          "metadata": {},
          "execution_count": 18
        }
      ],
      "source": [
        "data_trainnig_scaled = scaler.fit_transform(data_trainnig)\n",
        "data_trainnig_scaled.shape"
      ]
    },
    {
      "cell_type": "code",
      "execution_count": null,
      "metadata": {
        "colab": {
          "base_uri": "https://localhost:8080/"
        },
        "id": "6iwPbHM02Hrh",
        "outputId": "4474da20-8aef-44fc-d8b0-f01c8ba8f5fe"
      },
      "outputs": [
        {
          "output_type": "execute_result",
          "data": {
            "text/plain": [
              "numpy.ndarray"
            ]
          },
          "metadata": {},
          "execution_count": 19
        }
      ],
      "source": [
        "type(data_trainnig_scaled)"
      ]
    },
    {
      "cell_type": "code",
      "execution_count": null,
      "metadata": {
        "id": "TSsEV_zf2PaI"
      },
      "outputs": [],
      "source": [
        "## split data into x_train and y_train with 100 sma\n",
        "x_train = []\n",
        "y_train = []\n",
        "\n",
        "for i in range(14, data_trainnig_scaled.shape[0]):\n",
        "  x_train.append(data_trainnig_scaled[i-14:i])\n",
        "  y_train.append(data_trainnig_scaled[i,0])"
      ]
    },
    {
      "cell_type": "code",
      "execution_count": null,
      "metadata": {
        "id": "mvn8Zjh13YOd"
      },
      "outputs": [],
      "source": [
        "x_train, y_train = np.array(x_train), np.array(y_train)"
      ]
    },
    {
      "cell_type": "code",
      "execution_count": null,
      "metadata": {
        "colab": {
          "base_uri": "https://localhost:8080/"
        },
        "id": "LTlXeK-H3_vT",
        "outputId": "7efce7a1-99f6-4acf-a5b1-770593dbd38a"
      },
      "outputs": [
        {
          "output_type": "stream",
          "name": "stdout",
          "text": [
            "(4502, 14, 1)\n",
            "(4502,)\n"
          ]
        }
      ],
      "source": [
        "print(x_train.shape)\n",
        "print(y_train.shape)"
      ]
    },
    {
      "cell_type": "code",
      "execution_count": null,
      "metadata": {
        "colab": {
          "base_uri": "https://localhost:8080/"
        },
        "id": "pcjaWK57kf_0",
        "outputId": "e16524bd-4199-4fae-f2bc-971d448aa458"
      },
      "outputs": [
        {
          "output_type": "execute_result",
          "data": {
            "text/plain": [
              "array([[[0.27151372],\n",
              "        [0.26498135],\n",
              "        [0.27293378],\n",
              "        ...,\n",
              "        [0.24112442],\n",
              "        [0.24254447],\n",
              "        [0.23487633]],\n",
              "\n",
              "       [[0.26498135],\n",
              "        [0.27293378],\n",
              "        [0.26498135],\n",
              "        ...,\n",
              "        [0.24254447],\n",
              "        [0.23487633],\n",
              "        [0.23203623]],\n",
              "\n",
              "       [[0.27293378],\n",
              "        [0.26498135],\n",
              "        [0.25788109],\n",
              "        ...,\n",
              "        [0.23487633],\n",
              "        [0.23203623],\n",
              "        [0.21613173]],\n",
              "\n",
              "       ...,\n",
              "\n",
              "       [[0.73132638],\n",
              "        [0.74495866],\n",
              "        [0.75262715],\n",
              "        ...,\n",
              "        [0.75092281],\n",
              "        [0.74950276],\n",
              "        [0.75177498]],\n",
              "\n",
              "       [[0.74495866],\n",
              "        [0.75262715],\n",
              "        [0.75433114],\n",
              "        ...,\n",
              "        [0.74950276],\n",
              "        [0.75177498],\n",
              "        [0.75063887]],\n",
              "\n",
              "       [[0.75262715],\n",
              "        [0.75433114],\n",
              "        [0.76341933],\n",
              "        ...,\n",
              "        [0.75177498],\n",
              "        [0.75063887],\n",
              "        [0.7568873 ]]])"
            ]
          },
          "metadata": {},
          "execution_count": 21
        }
      ],
      "source": [
        "x_train"
      ]
    },
    {
      "cell_type": "code",
      "execution_count": null,
      "metadata": {
        "id": "VZSh-gWC4Jtx"
      },
      "outputs": [],
      "source": [
        "## Model\n",
        "from keras.layers import LSTM, Dense, Dropout\n",
        "from keras.models import Sequential\n"
      ]
    },
    {
      "cell_type": "code",
      "execution_count": null,
      "metadata": {
        "id": "ljaCyWLd4wm5"
      },
      "outputs": [],
      "source": [
        "## add layers to model\n",
        "\n",
        "model = Sequential()\n",
        "model.add(LSTM(units=90, activation='relu', return_sequences=True,\n",
        "               input_shape=(x_train.shape[1], 1)))\n",
        "model.add(Dropout(0.2))\n",
        "\n",
        "model.add(LSTM(units=100, activation='relu', return_sequences=True))\n",
        "model.add(Dropout(0.3))\n",
        "\n",
        "model.add(LSTM(units=100, activation='relu', return_sequences=True))\n",
        "model.add(Dropout(0.3))\n",
        "\n",
        "model.add(LSTM(units=110, activation='relu', return_sequences=True))\n",
        "model.add(Dropout(0.3))\n",
        "\n",
        "model.add(LSTM(units=120, activation='relu',return_sequences=True))\n",
        "model.add(Dropout(0.4))\n",
        "\n",
        "model.add(LSTM(units=120, activation='relu'))\n",
        "model.add(Dropout(0.5))\n",
        "\n",
        "\n",
        "model.add(Dense(units=1))"
      ]
    },
    {
      "cell_type": "code",
      "execution_count": null,
      "metadata": {
        "colab": {
          "base_uri": "https://localhost:8080/"
        },
        "id": "0fxpDywL8nD9",
        "outputId": "df63f6e3-7e6d-4c00-a0f7-c221dd33f20d"
      },
      "outputs": [
        {
          "output_type": "stream",
          "name": "stdout",
          "text": [
            "Model: \"sequential\"\n",
            "_________________________________________________________________\n",
            " Layer (type)                Output Shape              Param #   \n",
            "=================================================================\n",
            " lstm (LSTM)                 (None, 14, 90)            33120     \n",
            "                                                                 \n",
            " dropout (Dropout)           (None, 14, 90)            0         \n",
            "                                                                 \n",
            " lstm_1 (LSTM)               (None, 14, 100)           76400     \n",
            "                                                                 \n",
            " dropout_1 (Dropout)         (None, 14, 100)           0         \n",
            "                                                                 \n",
            " lstm_2 (LSTM)               (None, 14, 100)           80400     \n",
            "                                                                 \n",
            " dropout_2 (Dropout)         (None, 14, 100)           0         \n",
            "                                                                 \n",
            " lstm_3 (LSTM)               (None, 14, 110)           92840     \n",
            "                                                                 \n",
            " dropout_3 (Dropout)         (None, 14, 110)           0         \n",
            "                                                                 \n",
            " lstm_4 (LSTM)               (None, 14, 120)           110880    \n",
            "                                                                 \n",
            " dropout_4 (Dropout)         (None, 14, 120)           0         \n",
            "                                                                 \n",
            " lstm_5 (LSTM)               (None, 120)               115680    \n",
            "                                                                 \n",
            " dropout_5 (Dropout)         (None, 120)               0         \n",
            "                                                                 \n",
            " dense (Dense)               (None, 1)                 121       \n",
            "                                                                 \n",
            "=================================================================\n",
            "Total params: 509,441\n",
            "Trainable params: 509,441\n",
            "Non-trainable params: 0\n",
            "_________________________________________________________________\n"
          ]
        }
      ],
      "source": [
        "## summary of model\n",
        "model.summary()"
      ]
    },
    {
      "cell_type": "code",
      "execution_count": null,
      "metadata": {
        "colab": {
          "base_uri": "https://localhost:8080/"
        },
        "id": "Gb-4hrbZ9Hkx",
        "outputId": "bd9481ea-8bd6-4497-930d-39c030aaf7e1"
      },
      "outputs": [
        {
          "output_type": "stream",
          "name": "stdout",
          "text": [
            "Epoch 1/75\n",
            "141/141 [==============================] - 14s 60ms/step - loss: 0.0194 - accuracy: 4.4425e-04 - mae: 0.0902\n",
            "Epoch 2/75\n",
            "141/141 [==============================] - 10s 69ms/step - loss: 0.0054 - accuracy: 4.4425e-04 - mae: 0.0530\n",
            "Epoch 3/75\n",
            "141/141 [==============================] - 10s 69ms/step - loss: 0.0049 - accuracy: 4.4425e-04 - mae: 0.0511\n",
            "Epoch 4/75\n",
            "141/141 [==============================] - 10s 69ms/step - loss: 0.0045 - accuracy: 4.4425e-04 - mae: 0.0486\n",
            "Epoch 5/75\n",
            "141/141 [==============================] - 8s 60ms/step - loss: 0.0040 - accuracy: 4.4425e-04 - mae: 0.0447\n",
            "Epoch 6/75\n",
            "141/141 [==============================] - 10s 70ms/step - loss: 0.0032 - accuracy: 4.4425e-04 - mae: 0.0406\n",
            "Epoch 7/75\n",
            "141/141 [==============================] - 10s 69ms/step - loss: 0.0032 - accuracy: 4.4425e-04 - mae: 0.0402\n",
            "Epoch 8/75\n",
            "141/141 [==============================] - 9s 66ms/step - loss: 0.0031 - accuracy: 4.4425e-04 - mae: 0.0388\n",
            "Epoch 9/75\n",
            "141/141 [==============================] - 9s 65ms/step - loss: 0.0028 - accuracy: 4.4425e-04 - mae: 0.0372\n",
            "Epoch 10/75\n",
            "141/141 [==============================] - 10s 70ms/step - loss: 0.0026 - accuracy: 4.4425e-04 - mae: 0.0353\n",
            "Epoch 11/75\n",
            "141/141 [==============================] - 10s 69ms/step - loss: 0.0022 - accuracy: 4.4425e-04 - mae: 0.0327\n",
            "Epoch 12/75\n",
            "141/141 [==============================] - 9s 64ms/step - loss: 0.0024 - accuracy: 4.4425e-04 - mae: 0.0342\n",
            "Epoch 13/75\n",
            "141/141 [==============================] - 10s 67ms/step - loss: 0.0023 - accuracy: 4.4425e-04 - mae: 0.0328\n",
            "Epoch 14/75\n",
            "141/141 [==============================] - 10s 70ms/step - loss: 0.0022 - accuracy: 4.4425e-04 - mae: 0.0328\n",
            "Epoch 15/75\n",
            "141/141 [==============================] - 10s 69ms/step - loss: 0.0021 - accuracy: 4.4425e-04 - mae: 0.0314\n",
            "Epoch 16/75\n",
            "141/141 [==============================] - 9s 61ms/step - loss: 0.0021 - accuracy: 4.4425e-04 - mae: 0.0318\n",
            "Epoch 17/75\n",
            "141/141 [==============================] - 10s 70ms/step - loss: 0.0019 - accuracy: 4.4425e-04 - mae: 0.0303\n",
            "Epoch 18/75\n",
            "141/141 [==============================] - 10s 69ms/step - loss: 0.0017 - accuracy: 4.4425e-04 - mae: 0.0291\n",
            "Epoch 19/75\n",
            "141/141 [==============================] - 10s 70ms/step - loss: 0.0019 - accuracy: 4.4425e-04 - mae: 0.0298\n",
            "Epoch 20/75\n",
            "141/141 [==============================] - 9s 61ms/step - loss: 0.0016 - accuracy: 4.4425e-04 - mae: 0.0284\n",
            "Epoch 21/75\n",
            "141/141 [==============================] - 10s 69ms/step - loss: 0.0016 - accuracy: 4.4425e-04 - mae: 0.0280\n",
            "Epoch 22/75\n",
            "141/141 [==============================] - 10s 70ms/step - loss: 0.0016 - accuracy: 4.4425e-04 - mae: 0.0290\n",
            "Epoch 23/75\n",
            "141/141 [==============================] - 9s 67ms/step - loss: 0.0015 - accuracy: 4.4425e-04 - mae: 0.0279\n",
            "Epoch 24/75\n",
            "141/141 [==============================] - 9s 63ms/step - loss: 0.0016 - accuracy: 4.4425e-04 - mae: 0.0285\n",
            "Epoch 25/75\n",
            "141/141 [==============================] - 10s 69ms/step - loss: 0.0016 - accuracy: 4.4425e-04 - mae: 0.0279\n",
            "Epoch 26/75\n",
            "141/141 [==============================] - 10s 69ms/step - loss: 0.0015 - accuracy: 4.4425e-04 - mae: 0.0279\n",
            "Epoch 27/75\n",
            "141/141 [==============================] - 9s 61ms/step - loss: 0.0016 - accuracy: 4.4425e-04 - mae: 0.0281\n",
            "Epoch 28/75\n",
            "141/141 [==============================] - 10s 68ms/step - loss: 0.0016 - accuracy: 4.4425e-04 - mae: 0.0281\n",
            "Epoch 29/75\n",
            "141/141 [==============================] - 10s 70ms/step - loss: 0.0015 - accuracy: 4.4425e-04 - mae: 0.0275\n",
            "Epoch 30/75\n",
            "141/141 [==============================] - 10s 70ms/step - loss: 0.0014 - accuracy: 4.4425e-04 - mae: 0.0268\n",
            "Epoch 31/75\n",
            "141/141 [==============================] - 9s 61ms/step - loss: 0.0016 - accuracy: 4.4425e-04 - mae: 0.0286\n",
            "Epoch 32/75\n",
            "141/141 [==============================] - 10s 70ms/step - loss: 0.0017 - accuracy: 4.4425e-04 - mae: 0.0292\n",
            "Epoch 33/75\n",
            "141/141 [==============================] - 10s 70ms/step - loss: 0.0016 - accuracy: 4.4425e-04 - mae: 0.0288\n",
            "Epoch 34/75\n",
            "141/141 [==============================] - 10s 70ms/step - loss: 0.0016 - accuracy: 4.4425e-04 - mae: 0.0283\n",
            "Epoch 35/75\n",
            "141/141 [==============================] - 9s 60ms/step - loss: 0.0015 - accuracy: 4.4425e-04 - mae: 0.0277\n",
            "Epoch 36/75\n",
            "141/141 [==============================] - 10s 69ms/step - loss: 0.0014 - accuracy: 4.4425e-04 - mae: 0.0269\n",
            "Epoch 37/75\n",
            "141/141 [==============================] - 10s 70ms/step - loss: 0.0017 - accuracy: 4.4425e-04 - mae: 0.0299\n",
            "Epoch 38/75\n",
            "141/141 [==============================] - 9s 66ms/step - loss: 0.0016 - accuracy: 4.4425e-04 - mae: 0.0293\n",
            "Epoch 39/75\n",
            "141/141 [==============================] - 9s 64ms/step - loss: 0.0016 - accuracy: 4.4425e-04 - mae: 0.0282\n",
            "Epoch 40/75\n",
            "141/141 [==============================] - 10s 69ms/step - loss: 0.0016 - accuracy: 4.4425e-04 - mae: 0.0276\n",
            "Epoch 41/75\n",
            "141/141 [==============================] - 10s 70ms/step - loss: 0.0014 - accuracy: 4.4425e-04 - mae: 0.0272\n",
            "Epoch 42/75\n",
            "141/141 [==============================] - 9s 61ms/step - loss: 0.0014 - accuracy: 4.4425e-04 - mae: 0.0269\n",
            "Epoch 43/75\n",
            "141/141 [==============================] - 10s 69ms/step - loss: 0.0015 - accuracy: 4.4425e-04 - mae: 0.0275\n",
            "Epoch 44/75\n",
            "141/141 [==============================] - 10s 69ms/step - loss: 0.0014 - accuracy: 4.4425e-04 - mae: 0.0268\n",
            "Epoch 45/75\n",
            "141/141 [==============================] - 10s 69ms/step - loss: 0.0017 - accuracy: 4.4425e-04 - mae: 0.0291\n",
            "Epoch 46/75\n",
            "141/141 [==============================] - 9s 61ms/step - loss: 0.0014 - accuracy: 4.4425e-04 - mae: 0.0268\n",
            "Epoch 47/75\n",
            "141/141 [==============================] - 10s 70ms/step - loss: 0.0013 - accuracy: 4.4425e-04 - mae: 0.0258\n",
            "Epoch 48/75\n",
            "141/141 [==============================] - 10s 69ms/step - loss: 0.0014 - accuracy: 4.4425e-04 - mae: 0.0268\n",
            "Epoch 49/75\n",
            "141/141 [==============================] - 9s 67ms/step - loss: 0.0014 - accuracy: 4.4425e-04 - mae: 0.0267\n",
            "Epoch 50/75\n",
            "141/141 [==============================] - 9s 62ms/step - loss: 0.0014 - accuracy: 4.4425e-04 - mae: 0.0267\n",
            "Epoch 51/75\n",
            "141/141 [==============================] - 10s 70ms/step - loss: 0.0014 - accuracy: 4.4425e-04 - mae: 0.0270\n",
            "Epoch 52/75\n",
            "141/141 [==============================] - 10s 70ms/step - loss: 0.0014 - accuracy: 4.4425e-04 - mae: 0.0271\n",
            "Epoch 53/75\n",
            "141/141 [==============================] - 9s 64ms/step - loss: 0.0015 - accuracy: 4.4425e-04 - mae: 0.0273\n",
            "Epoch 54/75\n",
            "141/141 [==============================] - 9s 67ms/step - loss: 0.0014 - accuracy: 4.4425e-04 - mae: 0.0269\n",
            "Epoch 55/75\n",
            "141/141 [==============================] - 10s 70ms/step - loss: 0.0013 - accuracy: 4.4425e-04 - mae: 0.0264\n",
            "Epoch 56/75\n",
            "141/141 [==============================] - 10s 70ms/step - loss: 0.0014 - accuracy: 4.4425e-04 - mae: 0.0266\n",
            "Epoch 57/75\n",
            "141/141 [==============================] - 9s 61ms/step - loss: 0.0014 - accuracy: 4.4425e-04 - mae: 0.0266\n",
            "Epoch 58/75\n",
            "141/141 [==============================] - 10s 70ms/step - loss: 0.0013 - accuracy: 4.4425e-04 - mae: 0.0258\n",
            "Epoch 59/75\n",
            "141/141 [==============================] - 10s 69ms/step - loss: 0.0014 - accuracy: 4.4425e-04 - mae: 0.0268\n",
            "Epoch 60/75\n",
            "141/141 [==============================] - 10s 69ms/step - loss: 0.0014 - accuracy: 4.4425e-04 - mae: 0.0263\n",
            "Epoch 61/75\n",
            "141/141 [==============================] - 8s 60ms/step - loss: 0.0014 - accuracy: 4.4425e-04 - mae: 0.0267\n",
            "Epoch 62/75\n",
            "141/141 [==============================] - 10s 69ms/step - loss: 0.0013 - accuracy: 4.4425e-04 - mae: 0.0255\n",
            "Epoch 63/75\n",
            "141/141 [==============================] - 10s 69ms/step - loss: 0.0013 - accuracy: 4.4425e-04 - mae: 0.0258\n",
            "Epoch 64/75\n",
            "141/141 [==============================] - 9s 66ms/step - loss: 0.0013 - accuracy: 4.4425e-04 - mae: 0.0261\n",
            "Epoch 65/75\n",
            "141/141 [==============================] - 9s 64ms/step - loss: 0.0013 - accuracy: 4.4425e-04 - mae: 0.0255\n",
            "Epoch 66/75\n",
            "141/141 [==============================] - 10s 69ms/step - loss: 0.0014 - accuracy: 4.4425e-04 - mae: 0.0266\n",
            "Epoch 67/75\n",
            "141/141 [==============================] - 10s 69ms/step - loss: 0.0013 - accuracy: 4.4425e-04 - mae: 0.0254\n",
            "Epoch 68/75\n",
            "141/141 [==============================] - 8s 60ms/step - loss: 0.0014 - accuracy: 4.4425e-04 - mae: 0.0267\n",
            "Epoch 69/75\n",
            "141/141 [==============================] - 10s 69ms/step - loss: 0.0014 - accuracy: 4.4425e-04 - mae: 0.0265\n",
            "Epoch 70/75\n",
            "141/141 [==============================] - 10s 69ms/step - loss: 0.0014 - accuracy: 4.4425e-04 - mae: 0.0271\n",
            "Epoch 71/75\n",
            "141/141 [==============================] - 10s 69ms/step - loss: 0.0013 - accuracy: 4.4425e-04 - mae: 0.0260\n",
            "Epoch 72/75\n",
            "141/141 [==============================] - 9s 61ms/step - loss: 0.0014 - accuracy: 4.4425e-04 - mae: 0.0263\n",
            "Epoch 73/75\n",
            "141/141 [==============================] - 10s 70ms/step - loss: 0.0014 - accuracy: 4.4425e-04 - mae: 0.0267\n",
            "Epoch 74/75\n",
            "141/141 [==============================] - 10s 69ms/step - loss: 0.0013 - accuracy: 4.4425e-04 - mae: 0.0253\n",
            "Epoch 75/75\n",
            "141/141 [==============================] - 9s 66ms/step - loss: 0.0013 - accuracy: 4.4425e-04 - mae: 0.0253\n",
            "CPU times: user 17min 55s, sys: 45.2 s, total: 18min 41s\n",
            "Wall time: 12min 27s\n"
          ]
        }
      ],
      "source": [
        "## trainning model\n",
        "%%time\n",
        "model.compile(optimizer='adam', loss='mean_squared_error', metrics=['accuracy', 'mae'])\n",
        "history = model.fit(x_train, y_train, epochs=75)"
      ]
    },
    {
      "cell_type": "code",
      "execution_count": null,
      "metadata": {
        "id": "Q_HSKPwn9QjV"
      },
      "outputs": [],
      "source": [
        "# saving model\n",
        "from google.colab import files"
      ]
    },
    {
      "cell_type": "code",
      "execution_count": null,
      "metadata": {
        "colab": {
          "base_uri": "https://localhost:8080/",
          "height": 17
        },
        "id": "YAs_Z7B4QIZX",
        "outputId": "c0aabfbb-afe5-469d-c153-28691486fd4f"
      },
      "outputs": [
        {
          "data": {
            "application/javascript": [
              "\n",
              "    async function download(id, filename, size) {\n",
              "      if (!google.colab.kernel.accessAllowed) {\n",
              "        return;\n",
              "      }\n",
              "      const div = document.createElement('div');\n",
              "      const label = document.createElement('label');\n",
              "      label.textContent = `Downloading \"${filename}\": `;\n",
              "      div.appendChild(label);\n",
              "      const progress = document.createElement('progress');\n",
              "      progress.max = size;\n",
              "      div.appendChild(progress);\n",
              "      document.body.appendChild(div);\n",
              "\n",
              "      const buffers = [];\n",
              "      let downloaded = 0;\n",
              "\n",
              "      const channel = await google.colab.kernel.comms.open(id);\n",
              "      // Send a message to notify the kernel that we're ready.\n",
              "      channel.send({})\n",
              "\n",
              "      for await (const message of channel.messages) {\n",
              "        // Send a message to notify the kernel that we're ready.\n",
              "        channel.send({})\n",
              "        if (message.buffers) {\n",
              "          for (const buffer of message.buffers) {\n",
              "            buffers.push(buffer);\n",
              "            downloaded += buffer.byteLength;\n",
              "            progress.value = downloaded;\n",
              "          }\n",
              "        }\n",
              "      }\n",
              "      const blob = new Blob(buffers, {type: 'application/binary'});\n",
              "      const a = document.createElement('a');\n",
              "      a.href = window.URL.createObjectURL(blob);\n",
              "      a.download = filename;\n",
              "      div.appendChild(a);\n",
              "      a.click();\n",
              "      div.remove();\n",
              "    }\n",
              "  "
            ],
            "text/plain": [
              "<IPython.core.display.Javascript object>"
            ]
          },
          "metadata": {},
          "output_type": "display_data"
        },
        {
          "data": {
            "application/javascript": [
              "download(\"download_46f9b2e8-1649-428b-a7e4-cc584b020d18\", \"oneHourModel.h5\", 2217832)"
            ],
            "text/plain": [
              "<IPython.core.display.Javascript object>"
            ]
          },
          "metadata": {},
          "output_type": "display_data"
        }
      ],
      "source": [
        "# saving to local host\n",
        "model.save('oneHourModel.h5')\n",
        "files.download('oneHourModel.h5')"
      ]
    },
    {
      "cell_type": "code",
      "execution_count": null,
      "metadata": {
        "id": "FGemOVdjDbjO"
      },
      "outputs": [],
      "source": [
        "# saving to gdrive\n",
        "model_save_name = 'oneHourModel.h5'\n",
        "path = f\"/content/drive/MyDrive/Project/{model_save_name}\"\n",
        "model.save(filepath=path)"
      ]
    },
    {
      "cell_type": "code",
      "execution_count": null,
      "metadata": {
        "colab": {
          "base_uri": "https://localhost:8080/"
        },
        "id": "KuvXWsNxDJRk",
        "outputId": "4752a2e3-4d99-42b0-a241-890a6e885b2a"
      },
      "outputs": [
        {
          "data": {
            "text/plain": [
              "['dailyModel.h5', 'oneHourModel.h5']"
            ]
          },
          "execution_count": 28,
          "metadata": {},
          "output_type": "execute_result"
        }
      ],
      "source": [
        "import os\n",
        "os.listdir('/content/drive/MyDrive/Project')"
      ]
    },
    {
      "cell_type": "markdown",
      "source": [
        "**Checking Testing data**"
      ],
      "metadata": {
        "id": "JAuSc6PGctst"
      }
    },
    {
      "cell_type": "code",
      "execution_count": null,
      "metadata": {
        "colab": {
          "base_uri": "https://localhost:8080/",
          "height": 206
        },
        "id": "sLD4-W5vQtXd",
        "outputId": "ddffbd6d-9618-4cc3-8ef8-b7086b865bf4"
      },
      "outputs": [
        {
          "output_type": "execute_result",
          "data": {
            "text/plain": [
              "          Close\n",
              "4516  73.830002\n",
              "4517  73.650002\n",
              "4518  74.059998\n",
              "4519  74.150002\n",
              "4520  73.980003"
            ],
            "text/html": [
              "\n",
              "  <div id=\"df-8ef3f8ce-7b63-4595-9318-cc1e7141c62f\">\n",
              "    <div class=\"colab-df-container\">\n",
              "      <div>\n",
              "<style scoped>\n",
              "    .dataframe tbody tr th:only-of-type {\n",
              "        vertical-align: middle;\n",
              "    }\n",
              "\n",
              "    .dataframe tbody tr th {\n",
              "        vertical-align: top;\n",
              "    }\n",
              "\n",
              "    .dataframe thead th {\n",
              "        text-align: right;\n",
              "    }\n",
              "</style>\n",
              "<table border=\"1\" class=\"dataframe\">\n",
              "  <thead>\n",
              "    <tr style=\"text-align: right;\">\n",
              "      <th></th>\n",
              "      <th>Close</th>\n",
              "    </tr>\n",
              "  </thead>\n",
              "  <tbody>\n",
              "    <tr>\n",
              "      <th>4516</th>\n",
              "      <td>73.830002</td>\n",
              "    </tr>\n",
              "    <tr>\n",
              "      <th>4517</th>\n",
              "      <td>73.650002</td>\n",
              "    </tr>\n",
              "    <tr>\n",
              "      <th>4518</th>\n",
              "      <td>74.059998</td>\n",
              "    </tr>\n",
              "    <tr>\n",
              "      <th>4519</th>\n",
              "      <td>74.150002</td>\n",
              "    </tr>\n",
              "    <tr>\n",
              "      <th>4520</th>\n",
              "      <td>73.980003</td>\n",
              "    </tr>\n",
              "  </tbody>\n",
              "</table>\n",
              "</div>\n",
              "      <button class=\"colab-df-convert\" onclick=\"convertToInteractive('df-8ef3f8ce-7b63-4595-9318-cc1e7141c62f')\"\n",
              "              title=\"Convert this dataframe to an interactive table.\"\n",
              "              style=\"display:none;\">\n",
              "        \n",
              "  <svg xmlns=\"http://www.w3.org/2000/svg\" height=\"24px\"viewBox=\"0 0 24 24\"\n",
              "       width=\"24px\">\n",
              "    <path d=\"M0 0h24v24H0V0z\" fill=\"none\"/>\n",
              "    <path d=\"M18.56 5.44l.94 2.06.94-2.06 2.06-.94-2.06-.94-.94-2.06-.94 2.06-2.06.94zm-11 1L8.5 8.5l.94-2.06 2.06-.94-2.06-.94L8.5 2.5l-.94 2.06-2.06.94zm10 10l.94 2.06.94-2.06 2.06-.94-2.06-.94-.94-2.06-.94 2.06-2.06.94z\"/><path d=\"M17.41 7.96l-1.37-1.37c-.4-.4-.92-.59-1.43-.59-.52 0-1.04.2-1.43.59L10.3 9.45l-7.72 7.72c-.78.78-.78 2.05 0 2.83L4 21.41c.39.39.9.59 1.41.59.51 0 1.02-.2 1.41-.59l7.78-7.78 2.81-2.81c.8-.78.8-2.07 0-2.86zM5.41 20L4 18.59l7.72-7.72 1.47 1.35L5.41 20z\"/>\n",
              "  </svg>\n",
              "      </button>\n",
              "      \n",
              "  <style>\n",
              "    .colab-df-container {\n",
              "      display:flex;\n",
              "      flex-wrap:wrap;\n",
              "      gap: 12px;\n",
              "    }\n",
              "\n",
              "    .colab-df-convert {\n",
              "      background-color: #E8F0FE;\n",
              "      border: none;\n",
              "      border-radius: 50%;\n",
              "      cursor: pointer;\n",
              "      display: none;\n",
              "      fill: #1967D2;\n",
              "      height: 32px;\n",
              "      padding: 0 0 0 0;\n",
              "      width: 32px;\n",
              "    }\n",
              "\n",
              "    .colab-df-convert:hover {\n",
              "      background-color: #E2EBFA;\n",
              "      box-shadow: 0px 1px 2px rgba(60, 64, 67, 0.3), 0px 1px 3px 1px rgba(60, 64, 67, 0.15);\n",
              "      fill: #174EA6;\n",
              "    }\n",
              "\n",
              "    [theme=dark] .colab-df-convert {\n",
              "      background-color: #3B4455;\n",
              "      fill: #D2E3FC;\n",
              "    }\n",
              "\n",
              "    [theme=dark] .colab-df-convert:hover {\n",
              "      background-color: #434B5C;\n",
              "      box-shadow: 0px 1px 3px 1px rgba(0, 0, 0, 0.15);\n",
              "      filter: drop-shadow(0px 1px 2px rgba(0, 0, 0, 0.3));\n",
              "      fill: #FFFFFF;\n",
              "    }\n",
              "  </style>\n",
              "\n",
              "      <script>\n",
              "        const buttonEl =\n",
              "          document.querySelector('#df-8ef3f8ce-7b63-4595-9318-cc1e7141c62f button.colab-df-convert');\n",
              "        buttonEl.style.display =\n",
              "          google.colab.kernel.accessAllowed ? 'block' : 'none';\n",
              "\n",
              "        async function convertToInteractive(key) {\n",
              "          const element = document.querySelector('#df-8ef3f8ce-7b63-4595-9318-cc1e7141c62f');\n",
              "          const dataTable =\n",
              "            await google.colab.kernel.invokeFunction('convertToInteractive',\n",
              "                                                     [key], {});\n",
              "          if (!dataTable) return;\n",
              "\n",
              "          const docLinkHtml = 'Like what you see? Visit the ' +\n",
              "            '<a target=\"_blank\" href=https://colab.research.google.com/notebooks/data_table.ipynb>data table notebook</a>'\n",
              "            + ' to learn more about interactive tables.';\n",
              "          element.innerHTML = '';\n",
              "          dataTable['output_type'] = 'display_data';\n",
              "          await google.colab.output.renderOutput(dataTable, element);\n",
              "          const docLink = document.createElement('div');\n",
              "          docLink.innerHTML = docLinkHtml;\n",
              "          element.appendChild(docLink);\n",
              "        }\n",
              "      </script>\n",
              "    </div>\n",
              "  </div>\n",
              "  "
            ]
          },
          "metadata": {},
          "execution_count": 27
        }
      ],
      "source": [
        "data_testing.head()"
      ]
    },
    {
      "cell_type": "code",
      "execution_count": null,
      "metadata": {
        "colab": {
          "base_uri": "https://localhost:8080/",
          "height": 80
        },
        "id": "m8A_EtuCxtR1",
        "outputId": "7c921025-e5c2-418e-8001-004d71c31e6c"
      },
      "outputs": [
        {
          "output_type": "execute_result",
          "data": {
            "text/plain": [
              "          Close\n",
              "5644  72.809998"
            ],
            "text/html": [
              "\n",
              "  <div id=\"df-6e061022-afdd-4b22-8280-556a96d1c5f2\">\n",
              "    <div class=\"colab-df-container\">\n",
              "      <div>\n",
              "<style scoped>\n",
              "    .dataframe tbody tr th:only-of-type {\n",
              "        vertical-align: middle;\n",
              "    }\n",
              "\n",
              "    .dataframe tbody tr th {\n",
              "        vertical-align: top;\n",
              "    }\n",
              "\n",
              "    .dataframe thead th {\n",
              "        text-align: right;\n",
              "    }\n",
              "</style>\n",
              "<table border=\"1\" class=\"dataframe\">\n",
              "  <thead>\n",
              "    <tr style=\"text-align: right;\">\n",
              "      <th></th>\n",
              "      <th>Close</th>\n",
              "    </tr>\n",
              "  </thead>\n",
              "  <tbody>\n",
              "    <tr>\n",
              "      <th>5644</th>\n",
              "      <td>72.809998</td>\n",
              "    </tr>\n",
              "  </tbody>\n",
              "</table>\n",
              "</div>\n",
              "      <button class=\"colab-df-convert\" onclick=\"convertToInteractive('df-6e061022-afdd-4b22-8280-556a96d1c5f2')\"\n",
              "              title=\"Convert this dataframe to an interactive table.\"\n",
              "              style=\"display:none;\">\n",
              "        \n",
              "  <svg xmlns=\"http://www.w3.org/2000/svg\" height=\"24px\"viewBox=\"0 0 24 24\"\n",
              "       width=\"24px\">\n",
              "    <path d=\"M0 0h24v24H0V0z\" fill=\"none\"/>\n",
              "    <path d=\"M18.56 5.44l.94 2.06.94-2.06 2.06-.94-2.06-.94-.94-2.06-.94 2.06-2.06.94zm-11 1L8.5 8.5l.94-2.06 2.06-.94-2.06-.94L8.5 2.5l-.94 2.06-2.06.94zm10 10l.94 2.06.94-2.06 2.06-.94-2.06-.94-.94-2.06-.94 2.06-2.06.94z\"/><path d=\"M17.41 7.96l-1.37-1.37c-.4-.4-.92-.59-1.43-.59-.52 0-1.04.2-1.43.59L10.3 9.45l-7.72 7.72c-.78.78-.78 2.05 0 2.83L4 21.41c.39.39.9.59 1.41.59.51 0 1.02-.2 1.41-.59l7.78-7.78 2.81-2.81c.8-.78.8-2.07 0-2.86zM5.41 20L4 18.59l7.72-7.72 1.47 1.35L5.41 20z\"/>\n",
              "  </svg>\n",
              "      </button>\n",
              "      \n",
              "  <style>\n",
              "    .colab-df-container {\n",
              "      display:flex;\n",
              "      flex-wrap:wrap;\n",
              "      gap: 12px;\n",
              "    }\n",
              "\n",
              "    .colab-df-convert {\n",
              "      background-color: #E8F0FE;\n",
              "      border: none;\n",
              "      border-radius: 50%;\n",
              "      cursor: pointer;\n",
              "      display: none;\n",
              "      fill: #1967D2;\n",
              "      height: 32px;\n",
              "      padding: 0 0 0 0;\n",
              "      width: 32px;\n",
              "    }\n",
              "\n",
              "    .colab-df-convert:hover {\n",
              "      background-color: #E2EBFA;\n",
              "      box-shadow: 0px 1px 2px rgba(60, 64, 67, 0.3), 0px 1px 3px 1px rgba(60, 64, 67, 0.15);\n",
              "      fill: #174EA6;\n",
              "    }\n",
              "\n",
              "    [theme=dark] .colab-df-convert {\n",
              "      background-color: #3B4455;\n",
              "      fill: #D2E3FC;\n",
              "    }\n",
              "\n",
              "    [theme=dark] .colab-df-convert:hover {\n",
              "      background-color: #434B5C;\n",
              "      box-shadow: 0px 1px 3px 1px rgba(0, 0, 0, 0.15);\n",
              "      filter: drop-shadow(0px 1px 2px rgba(0, 0, 0, 0.3));\n",
              "      fill: #FFFFFF;\n",
              "    }\n",
              "  </style>\n",
              "\n",
              "      <script>\n",
              "        const buttonEl =\n",
              "          document.querySelector('#df-6e061022-afdd-4b22-8280-556a96d1c5f2 button.colab-df-convert');\n",
              "        buttonEl.style.display =\n",
              "          google.colab.kernel.accessAllowed ? 'block' : 'none';\n",
              "\n",
              "        async function convertToInteractive(key) {\n",
              "          const element = document.querySelector('#df-6e061022-afdd-4b22-8280-556a96d1c5f2');\n",
              "          const dataTable =\n",
              "            await google.colab.kernel.invokeFunction('convertToInteractive',\n",
              "                                                     [key], {});\n",
              "          if (!dataTable) return;\n",
              "\n",
              "          const docLinkHtml = 'Like what you see? Visit the ' +\n",
              "            '<a target=\"_blank\" href=https://colab.research.google.com/notebooks/data_table.ipynb>data table notebook</a>'\n",
              "            + ' to learn more about interactive tables.';\n",
              "          element.innerHTML = '';\n",
              "          dataTable['output_type'] = 'display_data';\n",
              "          await google.colab.output.renderOutput(dataTable, element);\n",
              "          const docLink = document.createElement('div');\n",
              "          docLink.innerHTML = docLinkHtml;\n",
              "          element.appendChild(docLink);\n",
              "        }\n",
              "      </script>\n",
              "    </div>\n",
              "  </div>\n",
              "  "
            ]
          },
          "metadata": {},
          "execution_count": 28
        }
      ],
      "source": [
        "data_testing.tail(1)"
      ]
    },
    {
      "cell_type": "code",
      "execution_count": null,
      "metadata": {
        "colab": {
          "base_uri": "https://localhost:8080/",
          "height": 206
        },
        "id": "wBTcxSLvRr_U",
        "outputId": "cd0956d2-53c0-4ecf-d6d8-b507e3fa682c"
      },
      "outputs": [
        {
          "output_type": "execute_result",
          "data": {
            "text/plain": [
              "          Close\n",
              "4511  73.629997\n",
              "4512  73.570000\n",
              "4513  73.599998\n",
              "4514  73.739998\n",
              "4515  73.709999"
            ],
            "text/html": [
              "\n",
              "  <div id=\"df-6aa51bb8-2cce-4134-a951-29786ca642a2\">\n",
              "    <div class=\"colab-df-container\">\n",
              "      <div>\n",
              "<style scoped>\n",
              "    .dataframe tbody tr th:only-of-type {\n",
              "        vertical-align: middle;\n",
              "    }\n",
              "\n",
              "    .dataframe tbody tr th {\n",
              "        vertical-align: top;\n",
              "    }\n",
              "\n",
              "    .dataframe thead th {\n",
              "        text-align: right;\n",
              "    }\n",
              "</style>\n",
              "<table border=\"1\" class=\"dataframe\">\n",
              "  <thead>\n",
              "    <tr style=\"text-align: right;\">\n",
              "      <th></th>\n",
              "      <th>Close</th>\n",
              "    </tr>\n",
              "  </thead>\n",
              "  <tbody>\n",
              "    <tr>\n",
              "      <th>4511</th>\n",
              "      <td>73.629997</td>\n",
              "    </tr>\n",
              "    <tr>\n",
              "      <th>4512</th>\n",
              "      <td>73.570000</td>\n",
              "    </tr>\n",
              "    <tr>\n",
              "      <th>4513</th>\n",
              "      <td>73.599998</td>\n",
              "    </tr>\n",
              "    <tr>\n",
              "      <th>4514</th>\n",
              "      <td>73.739998</td>\n",
              "    </tr>\n",
              "    <tr>\n",
              "      <th>4515</th>\n",
              "      <td>73.709999</td>\n",
              "    </tr>\n",
              "  </tbody>\n",
              "</table>\n",
              "</div>\n",
              "      <button class=\"colab-df-convert\" onclick=\"convertToInteractive('df-6aa51bb8-2cce-4134-a951-29786ca642a2')\"\n",
              "              title=\"Convert this dataframe to an interactive table.\"\n",
              "              style=\"display:none;\">\n",
              "        \n",
              "  <svg xmlns=\"http://www.w3.org/2000/svg\" height=\"24px\"viewBox=\"0 0 24 24\"\n",
              "       width=\"24px\">\n",
              "    <path d=\"M0 0h24v24H0V0z\" fill=\"none\"/>\n",
              "    <path d=\"M18.56 5.44l.94 2.06.94-2.06 2.06-.94-2.06-.94-.94-2.06-.94 2.06-2.06.94zm-11 1L8.5 8.5l.94-2.06 2.06-.94-2.06-.94L8.5 2.5l-.94 2.06-2.06.94zm10 10l.94 2.06.94-2.06 2.06-.94-2.06-.94-.94-2.06-.94 2.06-2.06.94z\"/><path d=\"M17.41 7.96l-1.37-1.37c-.4-.4-.92-.59-1.43-.59-.52 0-1.04.2-1.43.59L10.3 9.45l-7.72 7.72c-.78.78-.78 2.05 0 2.83L4 21.41c.39.39.9.59 1.41.59.51 0 1.02-.2 1.41-.59l7.78-7.78 2.81-2.81c.8-.78.8-2.07 0-2.86zM5.41 20L4 18.59l7.72-7.72 1.47 1.35L5.41 20z\"/>\n",
              "  </svg>\n",
              "      </button>\n",
              "      \n",
              "  <style>\n",
              "    .colab-df-container {\n",
              "      display:flex;\n",
              "      flex-wrap:wrap;\n",
              "      gap: 12px;\n",
              "    }\n",
              "\n",
              "    .colab-df-convert {\n",
              "      background-color: #E8F0FE;\n",
              "      border: none;\n",
              "      border-radius: 50%;\n",
              "      cursor: pointer;\n",
              "      display: none;\n",
              "      fill: #1967D2;\n",
              "      height: 32px;\n",
              "      padding: 0 0 0 0;\n",
              "      width: 32px;\n",
              "    }\n",
              "\n",
              "    .colab-df-convert:hover {\n",
              "      background-color: #E2EBFA;\n",
              "      box-shadow: 0px 1px 2px rgba(60, 64, 67, 0.3), 0px 1px 3px 1px rgba(60, 64, 67, 0.15);\n",
              "      fill: #174EA6;\n",
              "    }\n",
              "\n",
              "    [theme=dark] .colab-df-convert {\n",
              "      background-color: #3B4455;\n",
              "      fill: #D2E3FC;\n",
              "    }\n",
              "\n",
              "    [theme=dark] .colab-df-convert:hover {\n",
              "      background-color: #434B5C;\n",
              "      box-shadow: 0px 1px 3px 1px rgba(0, 0, 0, 0.15);\n",
              "      filter: drop-shadow(0px 1px 2px rgba(0, 0, 0, 0.3));\n",
              "      fill: #FFFFFF;\n",
              "    }\n",
              "  </style>\n",
              "\n",
              "      <script>\n",
              "        const buttonEl =\n",
              "          document.querySelector('#df-6aa51bb8-2cce-4134-a951-29786ca642a2 button.colab-df-convert');\n",
              "        buttonEl.style.display =\n",
              "          google.colab.kernel.accessAllowed ? 'block' : 'none';\n",
              "\n",
              "        async function convertToInteractive(key) {\n",
              "          const element = document.querySelector('#df-6aa51bb8-2cce-4134-a951-29786ca642a2');\n",
              "          const dataTable =\n",
              "            await google.colab.kernel.invokeFunction('convertToInteractive',\n",
              "                                                     [key], {});\n",
              "          if (!dataTable) return;\n",
              "\n",
              "          const docLinkHtml = 'Like what you see? Visit the ' +\n",
              "            '<a target=\"_blank\" href=https://colab.research.google.com/notebooks/data_table.ipynb>data table notebook</a>'\n",
              "            + ' to learn more about interactive tables.';\n",
              "          element.innerHTML = '';\n",
              "          dataTable['output_type'] = 'display_data';\n",
              "          await google.colab.output.renderOutput(dataTable, element);\n",
              "          const docLink = document.createElement('div');\n",
              "          docLink.innerHTML = docLinkHtml;\n",
              "          element.appendChild(docLink);\n",
              "        }\n",
              "      </script>\n",
              "    </div>\n",
              "  </div>\n",
              "  "
            ]
          },
          "metadata": {},
          "execution_count": 29
        }
      ],
      "source": [
        "data_trainnig.tail()"
      ]
    },
    {
      "cell_type": "code",
      "execution_count": null,
      "metadata": {
        "id": "demraFepR6Sy"
      },
      "outputs": [],
      "source": [
        "last_in_trainning = data_trainnig.tail(14)"
      ]
    },
    {
      "cell_type": "code",
      "execution_count": null,
      "metadata": {
        "id": "ONCHw_jkSGX2",
        "colab": {
          "base_uri": "https://localhost:8080/"
        },
        "outputId": "409f442d-e09c-4eb2-ebf9-a424a25bc33b"
      },
      "outputs": [
        {
          "output_type": "stream",
          "name": "stderr",
          "text": [
            "<ipython-input-31-44605c8cbe74>:1: FutureWarning: The frame.append method is deprecated and will be removed from pandas in a future version. Use pandas.concat instead.\n",
            "  trainning_testing = last_in_trainning.append(data_testing, ignore_index=True)\n"
          ]
        }
      ],
      "source": [
        "trainning_testing = last_in_trainning.append(data_testing, ignore_index=True)"
      ]
    },
    {
      "cell_type": "code",
      "execution_count": null,
      "metadata": {
        "id": "SKxNQ4SfSdN6"
      },
      "outputs": [],
      "source": [
        "# scale down testing data\n",
        "final_testing = scaler.fit_transform(trainning_testing)"
      ]
    },
    {
      "cell_type": "code",
      "execution_count": null,
      "metadata": {
        "colab": {
          "base_uri": "https://localhost:8080/"
        },
        "id": "0xy4IfyFTOBw",
        "outputId": "d62b2b3c-e172-4441-9a00-de75c22fb010"
      },
      "outputs": [
        {
          "output_type": "execute_result",
          "data": {
            "text/plain": [
              "(1143, 1)"
            ]
          },
          "metadata": {},
          "execution_count": 33
        }
      ],
      "source": [
        "final_testing.shape"
      ]
    },
    {
      "cell_type": "code",
      "execution_count": null,
      "metadata": {
        "id": "mYlBl7OqS6hJ"
      },
      "outputs": [],
      "source": [
        "# split to x test and y test\n",
        "x_test = []\n",
        "y_test =[]\n",
        "\n",
        "for i in range(14, final_testing.shape[0]):\n",
        "  x_test.append(final_testing[i-14:i])\n",
        "  y_test.append(final_testing[i,0])"
      ]
    },
    {
      "cell_type": "code",
      "execution_count": null,
      "metadata": {
        "colab": {
          "base_uri": "https://localhost:8080/"
        },
        "id": "zHCQXc51Tt-E",
        "outputId": "dc2d2a3b-9fe6-4eff-ebec-fc82ee41953b"
      },
      "outputs": [
        {
          "output_type": "stream",
          "name": "stdout",
          "text": [
            "(1129, 14, 1)\n",
            "(1129,)\n"
          ]
        }
      ],
      "source": [
        "x_test, y_test = np.array(x_test), np.array(y_test)\n",
        "print(x_test.shape)\n",
        "print(y_test.shape)"
      ]
    },
    {
      "cell_type": "markdown",
      "source": [
        "**Making predictions**"
      ],
      "metadata": {
        "id": "yIWg0UsRdG-_"
      }
    },
    {
      "cell_type": "code",
      "execution_count": null,
      "metadata": {
        "colab": {
          "base_uri": "https://localhost:8080/"
        },
        "id": "Vf2XUvmbT__8",
        "outputId": "a524ae00-9514-4ecd-80cd-9f6fbd52e4a8"
      },
      "outputs": [
        {
          "output_type": "stream",
          "name": "stdout",
          "text": [
            "36/36 [==============================] - 1s 16ms/step\n"
          ]
        },
        {
          "output_type": "execute_result",
          "data": {
            "text/plain": [
              "(1129, 1)"
            ]
          },
          "metadata": {},
          "execution_count": 36
        }
      ],
      "source": [
        "y_predicted = model.predict(x_test)\n",
        "y_predicted.shape"
      ]
    },
    {
      "cell_type": "code",
      "source": [
        "loss, acc, mae = model.evaluate(y_predicted, y_test)"
      ],
      "metadata": {
        "colab": {
          "base_uri": "https://localhost:8080/"
        },
        "id": "lkk6_vii3Nvr",
        "outputId": "7354d34f-0d77-4af2-90da-da884f12758c"
      },
      "execution_count": null,
      "outputs": [
        {
          "output_type": "stream",
          "name": "stdout",
          "text": [
            "36/36 [==============================] - 1s 6ms/step - loss: 0.0696 - accuracy: 8.8574e-04 - mae: 0.2039\n"
          ]
        }
      ]
    },
    {
      "cell_type": "code",
      "source": [
        "print(acc * 100)"
      ],
      "metadata": {
        "colab": {
          "base_uri": "https://localhost:8080/"
        },
        "id": "xEqh5Bdw3bGa",
        "outputId": "bfc8bb59-9f76-4d71-c3d3-6cc0f8e67877"
      },
      "execution_count": null,
      "outputs": [
        {
          "output_type": "stream",
          "name": "stdout",
          "text": [
            "0.0885739573277533\n"
          ]
        }
      ]
    },
    {
      "cell_type": "code",
      "source": [
        "y_predicted[0].shape"
      ],
      "metadata": {
        "colab": {
          "base_uri": "https://localhost:8080/"
        },
        "id": "W6vtpP_lBnOU",
        "outputId": "143fcf40-d33d-4a75-b070-65ed5699825f"
      },
      "execution_count": null,
      "outputs": [
        {
          "output_type": "execute_result",
          "data": {
            "text/plain": [
              "(1,)"
            ]
          },
          "metadata": {},
          "execution_count": 39
        }
      ]
    },
    {
      "cell_type": "code",
      "execution_count": null,
      "metadata": {
        "colab": {
          "base_uri": "https://localhost:8080/"
        },
        "id": "yiuieCwMUXks",
        "outputId": "1e51993a-b294-4d96-fe6d-e4fcd1b948d7"
      },
      "outputs": [
        {
          "output_type": "execute_result",
          "data": {
            "text/plain": [
              "array([0.0605327])"
            ]
          },
          "metadata": {},
          "execution_count": 40
        }
      ],
      "source": [
        "# find scale factor\n",
        "scaler.scale_"
      ]
    },
    {
      "cell_type": "code",
      "execution_count": null,
      "metadata": {
        "id": "xXGb20FZUqMI"
      },
      "outputs": [],
      "source": [
        "scale_factor = 1/scaler.scale_"
      ]
    },
    {
      "cell_type": "code",
      "execution_count": null,
      "metadata": {
        "id": "7bVZp1IRU0W8"
      },
      "outputs": [],
      "source": [
        "y_predicted_scaled = y_predicted * scale_factor\n",
        "y_test_scaled = y_test * scale_factor ###"
      ]
    },
    {
      "cell_type": "code",
      "execution_count": null,
      "metadata": {
        "id": "7xWF0y6ByO4Y"
      },
      "outputs": [],
      "source": [
        "last_testing = data_testing.tail(5)"
      ]
    },
    {
      "cell_type": "code",
      "execution_count": null,
      "metadata": {
        "id": "VD5xa87EzNFz"
      },
      "outputs": [],
      "source": [
        "last_testing = np.array(last_testing['Close'])"
      ]
    },
    {
      "cell_type": "code",
      "execution_count": null,
      "metadata": {
        "colab": {
          "base_uri": "https://localhost:8080/"
        },
        "id": "SdVyGT2dzd3K",
        "outputId": "26d7de85-b45a-4732-fed4-5dae2d1662ed"
      },
      "outputs": [
        {
          "output_type": "execute_result",
          "data": {
            "text/plain": [
              "array([72.65000153, 72.56999969, 72.15000153, 72.76999664, 72.80999756])"
            ]
          },
          "metadata": {},
          "execution_count": 45
        }
      ],
      "source": [
        "last_testing"
      ]
    },
    {
      "cell_type": "code",
      "execution_count": null,
      "metadata": {
        "colab": {
          "base_uri": "https://localhost:8080/",
          "height": 522
        },
        "id": "PWf7TOaxVQic",
        "outputId": "254f5395-e212-4db6-a335-b87129716f4c"
      },
      "outputs": [
        {
          "output_type": "display_data",
          "data": {
            "text/plain": [
              "<Figure size 1000x600 with 1 Axes>"
            ],
            "image/png": "[encoded data removed]"
          },
          "metadata": {}
        }
      ],
      "source": [
        "# plotting\n",
        "plt.figure(figsize=(10,6))\n",
        "plt.plot(y_test_scaled, label='Original')\n",
        "plt.plot(y_predicted_scaled, label='Predicted')\n",
        "plt.legend()\n",
        "plt.show()\n"
      ]
    }
  ],
  "metadata": {
    "accelerator": "TPU",
    "colab": {
      "provenance": [],
      "mount_file_id": "1MWkguz_S3urMXFRz9rD3osDnOwgdydiN",
      "authorship_tag": "ABX9TyNRx4YyHlXt6ZkjWYByrRMV",
      "include_colab_link": true
    },
    "gpuClass": "standard",
    "kernelspec": {
      "display_name": "Python 3",
      "name": "python3"
    },
    "language_info": {
      "name": "python"
    }
  },
  "nbformat": 4,
  "nbformat_minor": 0
}